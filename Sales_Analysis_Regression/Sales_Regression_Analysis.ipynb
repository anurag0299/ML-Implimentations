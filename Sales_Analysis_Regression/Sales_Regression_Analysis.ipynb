{
 "cells": [
  {
   "cell_type": "markdown",
   "metadata": {
    "id": "Zc-fDREZ9_fp"
   },
   "source": [
    "## Title : Advertisement Analysis\n",
    "* The goal of this project is to analyze the relationship between different modes of advertising and product sales.\n",
    "* The project will also identify which advertising mode has the highest impact on sales, providing insights for strategic ad budget allocations."
   ]
  },
  {
   "cell_type": "markdown",
   "metadata": {
    "id": "moD48vPj4e_B"
   },
   "source": [
    " **Dataset Discription**\n",
    "\n",
    "\n",
    "\n",
    " "
   ]
  },
  {
   "cell_type": "markdown",
   "metadata": {
    "id": "SeCF5NB664DS"
   },
   "source": [
    " Advertisement Dataset provides sales of products depending upon the type of advertisement.\n",
    " 3 advertising modes are used i.e. advertising on Television, advertising on Radio, advertising using Newspaper"
   ]
  },
  {
   "cell_type": "markdown",
   "metadata": {
    "id": "twCs_EtR8W4v"
   },
   "source": [
    "Attributes: \n",
    "*   TV(X1)\n",
    "*   Radio(X2)\n",
    "*   Newspaper(X3)\n",
    "*   Sales(Y)\n"
   ]
  },
  {
   "cell_type": "code",
   "execution_count": 1,
   "metadata": {
    "id": "JWMbK3AnF2eb"
   },
   "outputs": [],
   "source": [
    "import numpy as np\n",
    "import pandas as pd\n",
    "from sympy import symbols,Eq,solve\n",
    "from scipy.stats import pearsonr\n",
    "from sklearn.metrics import r2_score"
   ]
  },
  {
   "cell_type": "code",
   "execution_count": 3,
   "metadata": {
    "id": "n6KB78edHvHw"
   },
   "outputs": [],
   "source": [
    "df=pd.read_csv(\"advertising.csv\")"
   ]
  },
  {
   "cell_type": "code",
   "execution_count": 4,
   "metadata": {
    "colab": {
     "base_uri": "https://localhost:8080/",
     "height": 204
    },
    "id": "NWBGEPeUIbfa",
    "outputId": "16bef988-9d6e-4bbf-8323-686d5aa3c54f"
   },
   "outputs": [
    {
     "data": {
      "text/html": [
       "<div>\n",
       "<style scoped>\n",
       "    .dataframe tbody tr th:only-of-type {\n",
       "        vertical-align: middle;\n",
       "    }\n",
       "\n",
       "    .dataframe tbody tr th {\n",
       "        vertical-align: top;\n",
       "    }\n",
       "\n",
       "    .dataframe thead th {\n",
       "        text-align: right;\n",
       "    }\n",
       "</style>\n",
       "<table border=\"1\" class=\"dataframe\">\n",
       "  <thead>\n",
       "    <tr style=\"text-align: right;\">\n",
       "      <th></th>\n",
       "      <th>TV</th>\n",
       "      <th>Radio</th>\n",
       "      <th>Newspaper</th>\n",
       "      <th>Sales</th>\n",
       "    </tr>\n",
       "  </thead>\n",
       "  <tbody>\n",
       "    <tr>\n",
       "      <th>0</th>\n",
       "      <td>230.1</td>\n",
       "      <td>37.8</td>\n",
       "      <td>69.2</td>\n",
       "      <td>22.1</td>\n",
       "    </tr>\n",
       "    <tr>\n",
       "      <th>1</th>\n",
       "      <td>44.5</td>\n",
       "      <td>39.3</td>\n",
       "      <td>45.1</td>\n",
       "      <td>10.4</td>\n",
       "    </tr>\n",
       "    <tr>\n",
       "      <th>2</th>\n",
       "      <td>17.2</td>\n",
       "      <td>45.9</td>\n",
       "      <td>69.3</td>\n",
       "      <td>12.0</td>\n",
       "    </tr>\n",
       "    <tr>\n",
       "      <th>3</th>\n",
       "      <td>151.5</td>\n",
       "      <td>41.3</td>\n",
       "      <td>58.5</td>\n",
       "      <td>16.5</td>\n",
       "    </tr>\n",
       "    <tr>\n",
       "      <th>4</th>\n",
       "      <td>180.8</td>\n",
       "      <td>10.8</td>\n",
       "      <td>58.4</td>\n",
       "      <td>17.9</td>\n",
       "    </tr>\n",
       "  </tbody>\n",
       "</table>\n",
       "</div>"
      ],
      "text/plain": [
       "      TV  Radio  Newspaper  Sales\n",
       "0  230.1   37.8       69.2   22.1\n",
       "1   44.5   39.3       45.1   10.4\n",
       "2   17.2   45.9       69.3   12.0\n",
       "3  151.5   41.3       58.5   16.5\n",
       "4  180.8   10.8       58.4   17.9"
      ]
     },
     "execution_count": 4,
     "metadata": {},
     "output_type": "execute_result"
    }
   ],
   "source": [
    "df.head(5)"
   ]
  },
  {
   "cell_type": "code",
   "execution_count": 5,
   "metadata": {
    "id": "pKl57a5GIecv"
   },
   "outputs": [],
   "source": [
    "X1=list(df['TV'])\n",
    "X2=list(df['Radio'])\n",
    "X3=list(df['Newspaper'])\n",
    "Y=list(df['Sales'])\n",
    "n=len(Y)\n",
    "p=3\n"
   ]
  },
  {
   "cell_type": "code",
   "execution_count": 6,
   "metadata": {
    "id": "gtBF9AJPMyLx"
   },
   "outputs": [],
   "source": [
    "X1Y=np.multiply(X1,Y)\n",
    "X2Y=np.multiply(X2,Y)\n",
    "X3Y=np.multiply(X3,Y)\n",
    "X1sq=np.square(X1)\n",
    "X2sq=np.square(X2)\n",
    "X3sq=np.square(X3)"
   ]
  },
  {
   "cell_type": "markdown",
   "metadata": {
    "id": "vIRuOUYJQ8ED"
   },
   "source": [
    "**Least Square Regression**"
   ]
  },
  {
   "cell_type": "code",
   "execution_count": 7,
   "metadata": {
    "colab": {
     "base_uri": "https://localhost:8080/",
     "height": 0
    },
    "id": "Djf8e7JQQPsF",
    "outputId": "bd7c4e2c-a4a0-47a4-97d6-6eca6d8c6b0b"
   },
   "outputs": [
    {
     "name": "stdout",
     "output_type": "stream",
     "text": [
      "Values From LSR Method\n",
      "m1 = 0.05546477046955868\n",
      "m2 = 0.1244316555033846\n",
      "m3 = 0.03832399510524219\n",
      "c  = 2.9090921081536107\n"
     ]
    }
   ],
   "source": [
    "print(\"Values From LSR Method\")\n",
    "m1=(n*sum(X1Y)-sum(X1)*sum(Y))/(n*sum(X1sq)-sum(X1)*sum(X1))\n",
    "m2=(n*sum(X2Y)-sum(X2)*sum(Y))/(n*sum(X2sq)-sum(X2)*sum(X2))\n",
    "m3=(n*sum(X3Y)-sum(X3)*sum(Y))/(n*sum(X3sq)-sum(X3)*sum(X3))\n",
    "c=(sum(Y)-m1*sum(X1)-m2*sum(X2)-m3*sum(X3))/n\n",
    "\n",
    "print(f\"m1 = {m1}\\nm2 = {m2}\\nm3 = {m3}\\nc  = {c}\")"
   ]
  },
  {
   "cell_type": "code",
   "execution_count": 9,
   "metadata": {
    "colab": {
     "base_uri": "https://localhost:8080/",
     "height": 0
    },
    "id": "KM0sPPCzTRuD",
    "outputId": "8d3ada6f-18b7-460e-88d0-2062eb72f188"
   },
   "outputs": [
    {
     "name": "stdout",
     "output_type": "stream",
     "text": [
      "R sqaured and Adjusted R squared value of LSR \n",
      "R_squared = 0.869588724038402\n",
      "Adjusted R_square = 0.8675926330798062\n"
     ]
    }
   ],
   "source": [
    "print(\"R sqaured and Adjusted R squared value of LSR \")\n",
    "Y_pred=[]\n",
    "for i in range(n):\n",
    "  y_hat=m1*X1[i]+m2*X2[i]+m3*X3[i]+c\n",
    "  Y_pred.append(y_hat)\n",
    "R_sq=r2_score(Y,Y_pred)\n",
    "Adj_R_sq=1-((1-R_sq)*(n-1)/(n-p-1))\n",
    "\n",
    "print(f\"R_squared = {R_sq}\\nAdjusted R_square = {Adj_R_sq}\")\n"
   ]
  },
  {
   "cell_type": "code",
   "execution_count": 10,
   "metadata": {
    "id": "rXHRXf4fVS5F"
   },
   "outputs": [],
   "source": [
    "X1X2=np.multiply(X1,X2)\n",
    "X2X3=np.multiply(X2,X3)\n",
    "X1X3=np.multiply(X1,X3)"
   ]
  },
  {
   "cell_type": "markdown",
   "metadata": {
    "id": "XaVzXeZDVJ0_"
   },
   "source": [
    "**Gradient Descent**"
   ]
  },
  {
   "cell_type": "code",
   "execution_count": 12,
   "metadata": {
    "colab": {
     "base_uri": "https://localhost:8080/",
     "height": 0
    },
    "id": "-gCC1qGxWhkj",
    "outputId": "5df66544-fd08-4b4c-c0d1-5bf8a859c343"
   },
   "outputs": [
    {
     "name": "stdout",
     "output_type": "stream",
     "text": [
      "Values From GD Method\n",
      "m1 = 0.0544457803375709\n",
      "m2 = 0.107001228238703\n",
      "m3 = 0.000335657922331233\n",
      "c  = 4.62512407880865\n"
     ]
    }
   ],
   "source": [
    "print(\"Values From GD Method\")\n",
    "gd_m1,gd_m2,gd_m3,gd_c = symbols('gd_m1,gd_m2,gd_m3,gd_c')\n",
    "eq1=Eq(gd_m1*sum(X1sq)+gd_m2*sum(X1X2)+gd_m3*sum(X1X3)+gd_c*sum(X1)-sum(X1Y),0)\n",
    "eq2=Eq(gd_m2*sum(X2sq)+gd_m1*sum(X1X2)+gd_m3*sum(X2X3)+gd_c*sum(X2)-sum(X2Y),0)\n",
    "eq3=Eq(gd_m3*sum(X3sq)+gd_m1*sum(X1X3)+gd_m2*sum(X2X3)+gd_c*sum(X3)-sum(X3Y),0)\n",
    "eq4=Eq(gd_m1*sum(X1)+gd_m2*sum(X2)+gd_m3*sum(X3)+n*gd_c-sum(Y),0)\n",
    "\n",
    "sol_eq=solve((eq1,eq2,eq3,eq4),(gd_m1,gd_m2,gd_m3,gd_c))\n",
    "gd_m1=sol_eq[gd_m1]\n",
    "gd_m2=sol_eq[gd_m2]\n",
    "gd_m3=sol_eq[gd_m3]\n",
    "gd_c =sol_eq[gd_c]\n",
    "print(f\"m1 = {gd_m1}\\nm2 = {gd_m2}\\nm3 = {gd_m3}\\nc  = {gd_c}\")\n"
   ]
  },
  {
   "cell_type": "code",
   "execution_count": 21,
   "metadata": {
    "colab": {
     "base_uri": "https://localhost:8080/",
     "height": 0
    },
    "id": "h3Zg3CQPo0il",
    "outputId": "4bf6e936-5684-4e08-8431-b6a0d1ec9b8f"
   },
   "outputs": [
    {
     "name": "stdout",
     "output_type": "stream",
     "text": [
      "R sqaured and Adjusted R squared value of GD \n",
      "R_squared = 0.9025912899684558\n",
      "Adjusted R_square = 0.9011003403251159\n"
     ]
    },
    {
     "name": "stderr",
     "output_type": "stream",
     "text": [
      "C:\\ProgramData\\Anaconda3\\lib\\site-packages\\sklearn\\utils\\validation.py:63: FutureWarning: Arrays of bytes/strings is being converted to decimal numbers if dtype='numeric'. This behavior is deprecated in 0.24 and will be removed in 1.1 (renaming of 0.26). Please convert your data to numeric values explicitly instead.\n",
      "  return f(*args, **kwargs)\n"
     ]
    }
   ],
   "source": [
    "print(\"R sqaured and Adjusted R squared value of GD \")\n",
    "gd_Y_pred=[]\n",
    "for i in range(n):\n",
    "  gd_y_hat=(gd_m1*X1[i]+gd_m2*X2[i]+gd_m3*X3[i]+gd_c)\n",
    "  gd_Y_pred.append(gd_y_hat)\n",
    "gd_R_sq=r2_score(Y,gd_Y_pred)\n",
    "gd_Adj_R_sq=1-((1-gd_R_sq)*(n-1)/(n-p-1))\n",
    "\n",
    "print(f\"R_squared = {gd_R_sq}\\nAdjusted R_square = {gd_Adj_R_sq}\")"
   ]
  },
  {
   "cell_type": "markdown",
   "metadata": {
    "id": "2JnltXZ5p7JP"
   },
   "source": [
    "**Euler's Form**"
   ]
  },
  {
   "cell_type": "code",
   "execution_count": 16,
   "metadata": {
    "id": "H53ldTIoqBZb"
   },
   "outputs": [],
   "source": [
    "x1_sq=sum(X1sq)-sum(X1)**2/n\n",
    "x2_sq=sum(X2sq)-sum(X2)**2/n\n",
    "x3_sq=sum(X3sq)-sum(X3)**2/n\n",
    "x1_y=sum(X1Y)-sum(X1)*sum(Y)/n\n",
    "x2_y=sum(X2Y)-sum(X2)*sum(Y)/n\n",
    "x3_y=sum(X3Y)-sum(X3)*sum(Y)/n\n",
    "x1_x2=sum(X1X2)-sum(X1)*sum(X2)/n\n",
    "x1_x3=sum(X1X3)-sum(X1)*sum(X3)/n\n",
    "x2_x3=sum(X2X3)-sum(X2)*sum(X3)/n\n"
   ]
  },
  {
   "cell_type": "code",
   "execution_count": 17,
   "metadata": {
    "colab": {
     "base_uri": "https://localhost:8080/",
     "height": 0
    },
    "id": "FFEs2sN5sAnX",
    "outputId": "e63ea8ef-66a3-4268-9be7-ac40068c34a7"
   },
   "outputs": [
    {
     "name": "stdout",
     "output_type": "stream",
     "text": [
      "Values From Euler's Form\n",
      "m1 = 0.0544457803375708\n",
      "m2 = 0.107001228238702\n",
      "m3 = 0.000335657922330636\n",
      "c  = 4.62512407880869\n"
     ]
    }
   ],
   "source": [
    "print(\"Values From Euler's Form\")\n",
    "ef_m1,ef_m2,ef_m3=symbols('ef_m1,ef_m2,ef_m3')\n",
    "ef_eq1=Eq((ef_m1*x1_sq + ef_m2*x1_x2 + ef_m3*x1_x3 - x1_y),0)\n",
    "ef_eq2=Eq((ef_m2*x2_sq + ef_m1*x1_x2 + ef_m3*x2_x3 - x2_y),0)\n",
    "ef_eq3=Eq((ef_m3*x3_sq + ef_m1*x1_x3 + ef_m2*x2_x3 - x3_y),0)\n",
    "\n",
    "ef_sol = solve((ef_eq1,ef_eq2,ef_eq3),(ef_m1,ef_m2,ef_m3))\n",
    "\n",
    "ef_m1=ef_sol[ef_m1]\n",
    "ef_m2=ef_sol[ef_m2]\n",
    "ef_m3=ef_sol[ef_m3]\n",
    "\n",
    "ef_c=(sum(Y)-ef_m1*sum(X1)-ef_m2*sum(X2)-ef_m3*sum(X3))/n\n",
    "print(f\"m1 = {ef_m1}\\nm2 = {ef_m2}\\nm3 = {ef_m3}\\nc  = {ef_c}\")\n"
   ]
  },
  {
   "cell_type": "code",
   "execution_count": 18,
   "metadata": {
    "colab": {
     "base_uri": "https://localhost:8080/",
     "height": 0
    },
    "id": "wda70xyWv9yw",
    "outputId": "2ddb9bea-c7d7-4bb3-c37e-4b407e72cae0"
   },
   "outputs": [
    {
     "name": "stdout",
     "output_type": "stream",
     "text": [
      "R sqaured and Adjusted R squared value of Euler's Form \n",
      "R_squared = 0.9025912899684558\n",
      "Adjusted R_square = 0.9011003403251159\n"
     ]
    },
    {
     "name": "stderr",
     "output_type": "stream",
     "text": [
      "C:\\ProgramData\\Anaconda3\\lib\\site-packages\\sklearn\\utils\\validation.py:63: FutureWarning: Arrays of bytes/strings is being converted to decimal numbers if dtype='numeric'. This behavior is deprecated in 0.24 and will be removed in 1.1 (renaming of 0.26). Please convert your data to numeric values explicitly instead.\n",
      "  return f(*args, **kwargs)\n"
     ]
    }
   ],
   "source": [
    "print(\"R sqaured and Adjusted R squared value of Euler's Form \")\n",
    "ef_Y_pred=[]\n",
    "for i in range(n):\n",
    "  ef_y_hat=(ef_m1*X1[i]+ef_m2*X2[i]+ef_m3*X3[i]+ef_c, dtype=float)\n",
    "  ef_Y_pred.append(ef_y_hat)\n",
    "ef_R_sq=r2_score(Y,ef_Y_pred)\n",
    "ef_Adj_R_sq=1-((1-ef_R_sq)*(n-1)/(n-p-1))\n",
    "\n",
    "print(f\"R_squared = {ef_R_sq}\\nAdjusted R_square = {ef_Adj_R_sq}\")"
   ]
  },
  {
   "cell_type": "markdown",
   "metadata": {
    "id": "BNo6ffstwpKg"
   },
   "source": [
    "**Correlation Method**"
   ]
  },
  {
   "cell_type": "code",
   "execution_count": 24,
   "metadata": {
    "colab": {
     "base_uri": "https://localhost:8080/",
     "height": 0
    },
    "id": "qtHdJg98woTa",
    "outputId": "18c0ce65-ac42-43a1-d2dd-c5cba6ded2ee"
   },
   "outputs": [
    {
     "name": "stdout",
     "output_type": "stream",
     "text": [
      "Correlation\n",
      "m1 = 0.09273323244790398\n",
      "m2 = 0.2273939697934377\n",
      "m3 = 0.07822262799427612\n",
      "c  = -6.185333821232566\n"
     ]
    }
   ],
   "source": [
    "print(\"Values From Correlation\")\n",
    "r1,_=pearsonr(X1,Y)\n",
    "r2,_=pearsonr(X2,Y)\n",
    "r3,_=pearsonr(X3,Y)\n",
    "\n",
    "cr_m1=r1*(sum(Y)/sum(X1))\n",
    "cr_m2=r2*(sum(Y)/sum(X2))\n",
    "cr_m3=r3*(sum(Y)/sum(X3))\n",
    "cr_c=(sum(Y)-cr_m1*sum(X1)-cr_m2*sum(X2)-cr_m3*sum(X3))/n\n",
    "\n",
    "print(f\"m1 = {cr_m1}\\nm2 = {cr_m2}\\nm3 = {cr_m3}\\nc  = {cr_c}\")"
   ]
  },
  {
   "cell_type": "code",
   "execution_count": 27,
   "metadata": {
    "colab": {
     "base_uri": "https://localhost:8080/",
     "height": 0
    },
    "id": "GWMFUk7VySu5",
    "outputId": "68bd9085-bed9-4f60-cca9-06d9b7d6e774"
   },
   "outputs": [
    {
     "name": "stdout",
     "output_type": "stream",
     "text": [
      "R sqaured and Adjusted R squared value of Correlation \n",
      "R_squared = 0.1754774775287048\n",
      "Adjusted R_square = 0.16285723483781755\n"
     ]
    }
   ],
   "source": [
    "print(\"R sqaured and Adjusted R squared value of Correlation \")\n",
    "cr_Y_pred=[]\n",
    "for i in range(n):\n",
    "  cr_y_hat=cr_m1*X1[i]+cr_m2*X2[i]+cr_m3*X3[i]+cr_c\n",
    "  cr_Y_pred.append(cr_y_hat)\n",
    "cr_R_sq=r2_score(Y,cr_Y_pred)\n",
    "cr_Adj_R_sq=1-((1-cr_R_sq)*(n-1)/(n-p-1))\n",
    "\n",
    "print(f\"R_squared = {cr_R_sq}\\nAdjusted R_square = {cr_Adj_R_sq}\")"
   ]
  },
  {
   "cell_type": "markdown",
   "metadata": {
    "id": "_pu4Qv7Qzzlx"
   },
   "source": [
    "**Model Evaluation**"
   ]
  },
  {
   "cell_type": "markdown",
   "metadata": {
    "id": "TM4k4wia0_pk"
   },
   "source": [
    "\n",
    "\n",
    "1.   Gradient Descent:    R_squared = 0.9025912899684558,         Adjusted R_square = 0.9011003403251159\n",
    "2.   MVM Euler's Form:    R_squared = 0.9025912899684558,\n",
    "Adjusted R_square = 0.9011003403251159\n",
    "3.   LSR :                R_squared = 0.869588724038402,\n",
    "Adjusted R_square = 0.8675926330798062\n",
    "4.   Correlation:         R_squared = 0.1754774775287048,\n",
    "Adjusted R_square = 0.16285723483781755\n",
    "\n",
    "\n",
    "\n",
    "\n",
    "\n"
   ]
  },
  {
   "cell_type": "markdown",
   "metadata": {
    "id": "rvwffWlF2Sws"
   },
   "source": [
    "Various Machine learning algorithms have given different results and the models can be ranked based on their performance depending upon dataset as:                \n",
    "GD = MVM Euler's Form > LSR > Correlation\n",
    "\n",
    "From This we can conclude that GD and Euler's Form are the performing better and LSR is performing good bu bot better than GD and Euler's Form and Correlation model is not the best fit for advertisement dataset."
   ]
  },
  {
   "cell_type": "markdown",
   "metadata": {},
   "source": [
    "### The analysis suggests that television and radio advertising might have a stronger correlation with sales compared to newspapers, depending on each channel's contribution to the regression outcome. The findings can help in formulating optimized advertising strategies for better market penetration and sales performance."
   ]
  },
  {
   "cell_type": "code",
   "execution_count": null,
   "metadata": {},
   "outputs": [],
   "source": []
  }
 ],
 "metadata": {
  "colab": {
   "collapsed_sections": [],
   "name": "ML_Assignment01.ipynb",
   "provenance": []
  },
  "kernelspec": {
   "display_name": "Python 3 (ipykernel)",
   "language": "python",
   "name": "python3"
  },
  "language_info": {
   "codemirror_mode": {
    "name": "ipython",
    "version": 3
   },
   "file_extension": ".py",
   "mimetype": "text/x-python",
   "name": "python",
   "nbconvert_exporter": "python",
   "pygments_lexer": "ipython3",
   "version": "3.11.7"
  }
 },
 "nbformat": 4,
 "nbformat_minor": 1
}
