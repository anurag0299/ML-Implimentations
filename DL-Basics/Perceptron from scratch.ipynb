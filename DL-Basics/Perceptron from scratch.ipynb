{
 "cells": [
  {
   "cell_type": "markdown",
   "id": "ce75ed3f",
   "metadata": {},
   "source": [
    "## Perceptron from scratch\n"
   ]
  },
  {
   "cell_type": "code",
   "execution_count": 9,
   "id": "c4f074ba",
   "metadata": {},
   "outputs": [],
   "source": [
    "import numpy as np\n",
    "def activation(z):\n",
    "    res = (z>=0)\n",
    "    res = res * 1\n",
    "    return res\n",
    "\n",
    "def perceptron(X,y,LR,epochs=10,verbose = 0):\n",
    "    Bias = np.ones((X.shape[0],1))\n",
    "    X = np.concatenate((Bias,X),axis = 1)\n",
    "    W = np.random.rand(X.shape[1],) #Random weights in the range of 0 and 1\n",
    "    #W = np.array([0.1,0.5,0.4])\n",
    "    Error = np.zeros((X.shape[0],1))\n",
    "    for iterations in range(epochs):\n",
    "        Z = np.sum(X[0]*W)\n",
    "        y_pred = activation(Z)\n",
    "        Error[0] = y[0] - y_pred\n",
    "        for i in range(X.shape[0]-1):\n",
    "            W = W + LR * Error[i] * X[i]\n",
    "            Z = np.sum(X[i+1]*W)\n",
    "            y_pred = activation(Z)\n",
    "            Error[i+1] = y[i+1] - y_pred\n",
    "        W = W + LR * Error[i+1] * X[i+1]\n",
    "        Z = np.sum(X[0]*W)\n",
    "        y_pred = activation(Z)\n",
    "        Error[0] = y[0] - y_pred\n",
    "        #print(W,Z)\n",
    "        if verbose == 1:\n",
    "            print(\"Iteration\",iterations+1,\": Error:\",np.sum(np.abs(Error)))\n",
    "        if np.sum(np.abs(Error)) == 0 :\n",
    "            break\n",
    "    W = W.reshape(-1,1)\n",
    "    print(\"\\nLearning completed. Parameters below:\\n\",W)\n",
    "    return W\n",
    "\n",
    "def predict(X,W):\n",
    "    X = np.array([[0.01,-0.3],[0.2,0.4],[0.5,0.8],[0.7,0.8]])\n",
    "    Bias = np.ones((X.shape[0],1))\n",
    "    X = np.concatenate((Bias,X),axis = 1)\n",
    "    Z = np.dot(X,W)\n",
    "    return activation(Z)\n",
    "\n",
    "\n",
    "\n"
   ]
  },
  {
   "cell_type": "code",
   "execution_count": 10,
   "id": "390187f1",
   "metadata": {},
   "outputs": [
    {
     "name": "stdout",
     "output_type": "stream",
     "text": [
      "Iteration 1 : Error: 1.0\n",
      "Iteration 2 : Error: 1.0\n",
      "Iteration 3 : Error: 0.0\n",
      "\n",
      "Learning completed. Parameters below:\n",
      " [[-0.25108754]\n",
      " [ 0.34914572]\n",
      " [ 0.23190886]]\n"
     ]
    }
   ],
   "source": [
    "X = np.array([[0.01,-0.3],[0.2,0.4],[0.5,0.8],[0.7,0.8]])\n",
    "y = np.array([0,0,1,1])\n",
    "\n",
    "W = perceptron(X,y,LR=0.3,epochs = 100,verbose=1)"
   ]
  },
  {
   "cell_type": "code",
   "execution_count": 11,
   "id": "739d9060",
   "metadata": {},
   "outputs": [
    {
     "name": "stdout",
     "output_type": "stream",
     "text": [
      "Predicted values\n",
      " [[0]\n",
      " [0]\n",
      " [1]\n",
      " [1]]\n"
     ]
    }
   ],
   "source": [
    "y_pred = predict(X,W)\n",
    "print(\"Predicted values\\n\",y_pred)"
   ]
  }
 ],
 "metadata": {
  "kernelspec": {
   "display_name": "Python 3 (ipykernel)",
   "language": "python",
   "name": "python3"
  },
  "language_info": {
   "codemirror_mode": {
    "name": "ipython",
    "version": 3
   },
   "file_extension": ".py",
   "mimetype": "text/x-python",
   "name": "python",
   "nbconvert_exporter": "python",
   "pygments_lexer": "ipython3",
   "version": "3.11.7"
  }
 },
 "nbformat": 4,
 "nbformat_minor": 5
}
